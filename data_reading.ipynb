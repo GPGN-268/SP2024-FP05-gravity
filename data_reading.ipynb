{
 "cells": [
  {
   "cell_type": "markdown",
   "id": "27adda47",
   "metadata": {},
   "source": [
    "### Data Cleanup and Manipulation\n",
    "\n",
    "Data from these links: (need to find data sets)\n",
    "<br> https://www.eas.slu.edu/GGP/tohoku2011.html\n",
    "<br> https://www.nature.com/articles/s43247-023-00860-z\n",
    "<br> https://link.springer.com/article/10.1007/s00024-019-02356-4"
   ]
  }
 ],
 "metadata": {
  "kernelspec": {
   "display_name": "Python 3 (ipykernel)",
   "language": "python",
   "name": "python3"
  },
  "language_info": {
   "codemirror_mode": {
    "name": "ipython",
    "version": 3
   },
   "file_extension": ".py",
   "mimetype": "text/x-python",
   "name": "python",
   "nbconvert_exporter": "python",
   "pygments_lexer": "ipython3",
   "version": "3.11.5"
  }
 },
 "nbformat": 4,
 "nbformat_minor": 5
}
