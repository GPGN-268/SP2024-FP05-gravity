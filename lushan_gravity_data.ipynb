{
 "cells": [
  {
   "cell_type": "markdown",
   "id": "27adda47",
   "metadata": {},
   "source": [
    "### Data Cleanup and Manipulation\n",
    "\n",
    "Data from these links: (need to find data sets)\n",
    "<br> https://www.eas.slu.edu/GGP/tohoku2011.html\n",
    "<br> https://www.nature.com/articles/s43247-023-00860-z\n",
    "<br> https://link.springer.com/article/10.1007/s00024-019-02356-4"
   ]
  },
  {
   "cell_type": "code",
   "execution_count": 4,
   "id": "7bc87db1",
   "metadata": {},
   "outputs": [
    {
     "data": {
      "text/html": [
       "<div>\n",
       "<style scoped>\n",
       "    .dataframe tbody tr th:only-of-type {\n",
       "        vertical-align: middle;\n",
       "    }\n",
       "\n",
       "    .dataframe tbody tr th {\n",
       "        vertical-align: top;\n",
       "    }\n",
       "\n",
       "    .dataframe thead th {\n",
       "        text-align: right;\n",
       "    }\n",
       "</style>\n",
       "<table border=\"1\" class=\"dataframe\">\n",
       "  <thead>\n",
       "    <tr style=\"text-align: right;\">\n",
       "      <th></th>\n",
       "      <th>longitude</th>\n",
       "      <th>latitude</th>\n",
       "      <th>gravity change calculated by the MBGA method</th>\n",
       "      <th>error</th>\n",
       "    </tr>\n",
       "  </thead>\n",
       "  <tbody>\n",
       "    <tr>\n",
       "      <th>0</th>\n",
       "      <td>102.260</td>\n",
       "      <td>28.735</td>\n",
       "      <td>-24.868205</td>\n",
       "      <td>9.50</td>\n",
       "    </tr>\n",
       "    <tr>\n",
       "      <th>1</th>\n",
       "      <td>102.180</td>\n",
       "      <td>28.446</td>\n",
       "      <td>-16.306888</td>\n",
       "      <td>10.74</td>\n",
       "    </tr>\n",
       "    <tr>\n",
       "      <th>2</th>\n",
       "      <td>102.178</td>\n",
       "      <td>28.257</td>\n",
       "      <td>-14.865870</td>\n",
       "      <td>11.15</td>\n",
       "    </tr>\n",
       "    <tr>\n",
       "      <th>3</th>\n",
       "      <td>102.186</td>\n",
       "      <td>28.144</td>\n",
       "      <td>-32.072270</td>\n",
       "      <td>11.48</td>\n",
       "    </tr>\n",
       "    <tr>\n",
       "      <th>4</th>\n",
       "      <td>102.324</td>\n",
       "      <td>27.320</td>\n",
       "      <td>-19.371810</td>\n",
       "      <td>13.94</td>\n",
       "    </tr>\n",
       "    <tr>\n",
       "      <th>5</th>\n",
       "      <td>102.284</td>\n",
       "      <td>27.194</td>\n",
       "      <td>-38.086491</td>\n",
       "      <td>14.20</td>\n",
       "    </tr>\n",
       "    <tr>\n",
       "      <th>6</th>\n",
       "      <td>102.252</td>\n",
       "      <td>27.105</td>\n",
       "      <td>-39.053946</td>\n",
       "      <td>14.39</td>\n",
       "    </tr>\n",
       "    <tr>\n",
       "      <th>7</th>\n",
       "      <td>102.245</td>\n",
       "      <td>26.651</td>\n",
       "      <td>-37.806671</td>\n",
       "      <td>14.53</td>\n",
       "    </tr>\n",
       "    <tr>\n",
       "      <th>8</th>\n",
       "      <td>102.440</td>\n",
       "      <td>26.562</td>\n",
       "      <td>-40.881483</td>\n",
       "      <td>14.77</td>\n",
       "    </tr>\n",
       "    <tr>\n",
       "      <th>9</th>\n",
       "      <td>102.602</td>\n",
       "      <td>26.658</td>\n",
       "      <td>-42.296969</td>\n",
       "      <td>14.96</td>\n",
       "    </tr>\n",
       "  </tbody>\n",
       "</table>\n",
       "</div>"
      ],
      "text/plain": [
       "   longitude  latitude  gravity change calculated by the MBGA method  error\n",
       "0    102.260    28.735                                    -24.868205   9.50\n",
       "1    102.180    28.446                                    -16.306888  10.74\n",
       "2    102.178    28.257                                    -14.865870  11.15\n",
       "3    102.186    28.144                                    -32.072270  11.48\n",
       "4    102.324    27.320                                    -19.371810  13.94\n",
       "5    102.284    27.194                                    -38.086491  14.20\n",
       "6    102.252    27.105                                    -39.053946  14.39\n",
       "7    102.245    26.651                                    -37.806671  14.53\n",
       "8    102.440    26.562                                    -40.881483  14.77\n",
       "9    102.602    26.658                                    -42.296969  14.96"
      ]
     },
     "execution_count": 4,
     "metadata": {},
     "output_type": "execute_result"
    }
   ],
   "source": [
    "import pandas as pd\n",
    "import numpy as np\n",
    "import matplotlib.pyplot as plt\n",
    "\n",
    "df = pd.read_excel(\"lushan_gravity_data_2.xlsx\")\n",
    "df.head(10)"
   ]
  },
  {
   "cell_type": "code",
   "execution_count": 8,
   "id": "6dd6b93d",
   "metadata": {},
   "outputs": [
    {
     "ename": "TypeError",
     "evalue": "bar() missing 1 required positional argument: 'height'",
     "output_type": "error",
     "traceback": [
      "\u001b[1;31m---------------------------------------------------------------------------\u001b[0m",
      "\u001b[1;31mTypeError\u001b[0m                                 Traceback (most recent call last)",
      "Cell \u001b[1;32mIn[8], line 1\u001b[0m\n\u001b[1;32m----> 1\u001b[0m plt\u001b[38;5;241m.\u001b[39mbar(df[\u001b[38;5;124m\"\u001b[39m\u001b[38;5;124mgravity change calculated by the MBGA method\u001b[39m\u001b[38;5;124m\"\u001b[39m])\n",
      "\u001b[1;31mTypeError\u001b[0m: bar() missing 1 required positional argument: 'height'"
     ]
    }
   ],
   "source": [
    "plt.bar(df[\"gravity change calculated by the MBGA method\"])"
   ]
  }
 ],
 "metadata": {
  "kernelspec": {
   "display_name": "Python 3 (ipykernel)",
   "language": "python",
   "name": "python3"
  },
  "language_info": {
   "codemirror_mode": {
    "name": "ipython",
    "version": 3
   },
   "file_extension": ".py",
   "mimetype": "text/x-python",
   "name": "python",
   "nbconvert_exporter": "python",
   "pygments_lexer": "ipython3",
   "version": "3.11.5"
  }
 },
 "nbformat": 4,
 "nbformat_minor": 5
}
