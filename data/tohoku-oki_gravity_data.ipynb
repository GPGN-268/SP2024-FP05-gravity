{
 "cells": [
  {
   "cell_type": "code",
   "execution_count": 1,
   "id": "4d2476e4-dd6b-4191-ad37-c6071a59b976",
   "metadata": {},
   "outputs": [],
   "source": [
    "import pandas as pd\n",
    "import numpy as np\n",
    "import matplotlib.pyplot as plt\n",
    "import requests, zipfile\n",
    "\n",
    "# Use to add data from file ka110300.zip - this data shows induced gravity changes after the earthquake started\n",
    "#df = pd.read_csv('ka110300.zip')"
   ]
  }
 ],
 "metadata": {
  "kernelspec": {
   "display_name": "Python 3 (ipykernel)",
   "language": "python",
   "name": "python3"
  },
  "language_info": {
   "codemirror_mode": {
    "name": "ipython",
    "version": 3
   },
   "file_extension": ".py",
   "mimetype": "text/x-python",
   "name": "python",
   "nbconvert_exporter": "python",
   "pygments_lexer": "ipython3",
   "version": "3.12.2"
  }
 },
 "nbformat": 4,
 "nbformat_minor": 5
}
