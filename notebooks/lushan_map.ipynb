{
 "cells": [
  {
   "cell_type": "markdown",
   "id": "1464f19a-b395-420f-859e-d0e2d2a8009e",
   "metadata": {},
   "source": [
    "### Lushan Map\n",
    "Code to produce Area around the Lushan Earthquake and corresponding gravity stations"
   ]
  },
  {
   "cell_type": "code",
   "execution_count": null,
   "id": "f48e8648-ab4f-4729-88d8-a2397907d9bf",
   "metadata": {},
   "outputs": [],
   "source": [
    "# imports\n",
    "import matplotlib.pyplot as plt\n",
    "import pandas as pd\n",
    "import numpy as np\n",
    "import xarray as xr\n",
    "\n",
    "import cartopy.crs as ccrs\n",
    "import cartopy.feature as cfeature"
   ]
  },
  {
   "cell_type": "code",
   "execution_count": null,
   "id": "9e11ce8d-5676-4994-bf45-345281c41fc4",
   "metadata": {},
   "outputs": [],
   "source": [
    "# df with relative gravity station coordinates\n",
    "\n",
    "df = pd.read_csv('gravitystations.txt', sep='\\t')"
   ]
  },
  {
   "cell_type": "code",
   "execution_count": null,
   "id": "78926029-d845-43e1-85e5-b2503548319b",
   "metadata": {},
   "outputs": [],
   "source": [
    "# update df to only include points within desired latitude and longitude\n",
    "\n",
    "lat_min = 26.0\n",
    "lat_max = 32.0\n",
    "lon_min = 100.0\n",
    "lon_max = 105.0\n",
    "\n",
    "df['lat'] = df['lat'].astype(float)\n",
    "df['long'] = df['long'].astype(float)\n",
    "\n",
    "df = df[(df['lat'] >= lat_min) & (df['lat'] <= lat_max) &\n",
    "                 (df['long'] >= lon_min) & (df['long'] <= lon_max)]"
   ]
  },
  {
   "cell_type": "code",
   "execution_count": null,
   "id": "d1bf4040-1917-4fbb-9826-20ec207a8dd9",
   "metadata": {},
   "outputs": [],
   "source": [
    "# df with absolute gravity station locations and earthquake center\n",
    "stations_df = pd.read_csv('absgravitystations.txt', sep=' ')"
   ]
  },
  {
   "cell_type": "code",
   "execution_count": null,
   "id": "fa284cff-c3e3-4b9c-80fe-d07da5ed6697",
   "metadata": {},
   "outputs": [],
   "source": [
    "ds = xr.open_dataset(\"ETOPO_2022_v1_60s_N90W180_bed.nc\")\n",
    "ds = ds.sel(lon=slice(100, 105), lat=slice(26, 32))"
   ]
  },
  {
   "cell_type": "code",
   "execution_count": null,
   "id": "0e367a77-6ebf-42e8-b039-3b9041ec3516",
   "metadata": {},
   "outputs": [],
   "source": [
    "ds"
   ]
  },
  {
   "cell_type": "code",
   "execution_count": null,
   "id": "9c790c26-6bcc-4654-b641-d5d2d97cb73f",
   "metadata": {},
   "outputs": [],
   "source": [
    "# Extract latitude and longitude coordinates\n",
    "latitude = ds.lat.values\n",
    "longitude = ds.lon.values\n",
    "\n",
    "# Extract z values\n",
    "z_values = ds.z.values\n",
    "\n",
    "# Plot the data\n",
    "plt.figure(figsize=(8, 6))\n",
    "plt.contourf(longitude, latitude, z_values, cmap='viridis')\n",
    "plt.colorbar(label='Height (m)')\n",
    "plt.xlabel('Longitude')\n",
    "plt.ylabel('Latitude')\n",
    "plt.title('Height (m) vs. Latitude and Longitude')\n",
    "plt.grid(True)\n",
    "plt.show()"
   ]
  },
  {
   "cell_type": "code",
   "execution_count": null,
   "id": "c39e7b8c-78ca-4ffd-9f56-231d1e2aacd7",
   "metadata": {},
   "outputs": [],
   "source": [
    "# Make map\n",
    "\n",
    "# set projection type\n",
    "proj = ccrs.PlateCarree()\n",
    "\n",
    "# make figure\n",
    "plt.figure()\n",
    "ax = plt.axes(projection=proj)\n",
    "ax.set_title('Sichuan, China Geographical Setting', fontsize=10, pad=15)\n",
    "\n",
    "# set extent boundaries\n",
    "extent = [100, 105, 26, 32]\n",
    "ax.set_extent(extent)\n",
    "\n",
    "# add topography\n",
    "y = ds.lat.values\n",
    "x = ds.lon.values\n",
    "z = ds.z.values\n",
    "\n",
    "contour = ax.contourf(x, y, z, cmap='terrain', alpha=0.5, transform=proj)\n",
    "plt.colorbar(contour, ax=ax, label='Height (m)', orientation='vertical', pad=.1, shrink=0.7, location='left')\n",
    "\n",
    "# make latitude and longitude gridlines\n",
    "grid = ax.gridlines(draw_labels=True, linewidth=1, color='gray', alpha=0.8, linestyle='--')\n",
    "grid.left_labels = False\n",
    "grid.bottom_labels = False\n",
    "\n",
    "# add data points from dfs\n",
    "ax.scatter(df['long'], df['lat'], color=\"b\", marker='o', s=4, transform=proj, label=\"Relative Gravity Station\")\n",
    "ax.scatter(stations_df['long'], stations_df['lat'], color='red', marker='^', s=50, transform=proj, label=\"Absolute Gravity Station\")\n",
    "ax.scatter(103.0, 30.3, color='yellow', marker='o', s=220, label=\"Lushan Epicenter\")\n",
    "ax.scatter(103.0, 30.3, color='black', marker='o', s=250, facecolors='none')\n",
    "\n",
    "# add labels\n",
    "ax.text(103, 30.1, \"Lushan Earthquake\", fontsize=7, c=\"r\", bbox=dict(facecolor='white', edgecolor='black', boxstyle='round', alpha=.5))\n",
    "ax.text(103.92, 30.87, \"PX\", fontsize=8, c=\"r\", bbox=dict(facecolor='white', edgecolor='black', boxstyle='round', alpha=.5))\n",
    "ax.text(101.9, 27.8, \"XC\", fontsize=8, c=\"r\", bbox=dict(facecolor='white', edgecolor='black', boxstyle='round', alpha=.5))\n",
    "ax.text(101.25, 26.4, \"PZH\", fontsize=8, c=\"r\", bbox=dict(facecolor='white', edgecolor='black', boxstyle='round', alpha=.5))\n",
    "\n",
    "# add scale bar\n",
    "ax.plot([100.2, 101.65], [31.8, 31.8], color='k', transform=proj)\n",
    "ax.plot([100.2, 100.2], [31.75, 31.85], color='k', transform=proj)\n",
    "ax.plot([101.65, 101.65], [31.75, 31.85], color='k', transform=proj)\n",
    "ax.text(100.6, 31.6, \"100 mi\", fontsize=7)\n",
    "\n",
    "# add legend\n",
    "plt.legend(loc=\"lower right\", fontsize=\"x-small\", markerscale=.7)\n",
    "plt.savefig(\"lushan_map\")\n",
    "plt.show()"
   ]
  }
 ],
 "metadata": {
  "kernelspec": {
   "display_name": "Python 3 (ipykernel)",
   "language": "python",
   "name": "python3"
  },
  "language_info": {
   "codemirror_mode": {
    "name": "ipython",
    "version": 3
   },
   "file_extension": ".py",
   "mimetype": "text/x-python",
   "name": "python",
   "nbconvert_exporter": "python",
   "pygments_lexer": "ipython3",
   "version": "3.11.7"
  }
 },
 "nbformat": 4,
 "nbformat_minor": 5
}
